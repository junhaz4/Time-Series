{
 "cells": [
  {
   "cell_type": "markdown",
   "id": "9b079b5b",
   "metadata": {
    "heading_collapsed": true
   },
   "source": [
    "# 0. 环境准备"
   ]
  },
  {
   "cell_type": "code",
   "execution_count": 1,
   "id": "922a144f",
   "metadata": {
    "hidden": true
   },
   "outputs": [],
   "source": [
    "import pandas as pd\n",
    "import numpy as np\n",
    "import matplotlib.pyplot as plt\n",
    "%matplotlib inline\n",
    "\n",
    "# 设置pandas可以显示的行数和列数\n",
    "pd.options.display.max_rows = 400\n",
    "pd.options.display.max_columns = None\n",
    "\n",
    "# 忽略warnings\n",
    "import warnings\n",
    "warnings.filterwarnings(\"ignore\")\n",
    "\n",
    "#推荐安装插件： nbextensions"
   ]
  },
  {
   "cell_type": "markdown",
   "id": "a9cb7609",
   "metadata": {},
   "source": [
    "# 1.读入数据"
   ]
  },
  {
   "cell_type": "code",
   "execution_count": 2,
   "id": "f6ac75ef",
   "metadata": {},
   "outputs": [
    {
     "data": {
      "text/html": [
       "<div>\n",
       "<style scoped>\n",
       "    .dataframe tbody tr th:only-of-type {\n",
       "        vertical-align: middle;\n",
       "    }\n",
       "\n",
       "    .dataframe tbody tr th {\n",
       "        vertical-align: top;\n",
       "    }\n",
       "\n",
       "    .dataframe thead th {\n",
       "        text-align: right;\n",
       "    }\n",
       "</style>\n",
       "<table border=\"1\" class=\"dataframe\">\n",
       "  <thead>\n",
       "    <tr style=\"text-align: right;\">\n",
       "      <th></th>\n",
       "      <th>date</th>\n",
       "      <th>company</th>\n",
       "      <th>price</th>\n",
       "    </tr>\n",
       "  </thead>\n",
       "  <tbody>\n",
       "    <tr>\n",
       "      <th>0</th>\n",
       "      <td>2012-05-18</td>\n",
       "      <td>FB</td>\n",
       "      <td>38.230000</td>\n",
       "    </tr>\n",
       "    <tr>\n",
       "      <th>1</th>\n",
       "      <td>2012-05-21</td>\n",
       "      <td>FB</td>\n",
       "      <td>34.029999</td>\n",
       "    </tr>\n",
       "  </tbody>\n",
       "</table>\n",
       "</div>"
      ],
      "text/plain": [
       "        date company      price\n",
       "0 2012-05-18      FB  38.230000\n",
       "1 2012-05-21      FB  34.029999"
      ]
     },
     "execution_count": 2,
     "metadata": {},
     "output_type": "execute_result"
    }
   ],
   "source": [
    "# date: 日期\n",
    "# company: 公司代码\n",
    "# price: 股价\n",
    "df_stock = pd.read_csv('data/stock_price.csv', parse_dates=['date'])\n",
    "df_stock.head(2)"
   ]
  },
  {
   "cell_type": "markdown",
   "id": "a0f1913d",
   "metadata": {},
   "source": [
    "# 2. 用移动平均法做股价预测"
   ]
  },
  {
   "cell_type": "markdown",
   "id": "db4c8cbb",
   "metadata": {},
   "source": [
    "## 以FB的股票数据为例，站在2022-01-01，预测接下来1天的股价"
   ]
  },
  {
   "cell_type": "code",
   "execution_count": 3,
   "id": "789e64ce",
   "metadata": {},
   "outputs": [],
   "source": [
    "N = 10 #用过去10天的平均值作为对未来的预测\n",
    "\n",
    "his_date_end = pd.to_datetime('2022-01-01')\n",
    "his_date_begin = his_date_end - pd.Timedelta(N-1, unit='D')\n",
    "pred_price = df_stock[ (df_stock['company']=='FB') & \n",
    "                  (df_stock['date']>=his_date_begin) & \n",
    "                  (df_stock['date']<=his_date_end)]['price'].mean()"
   ]
  },
  {
   "cell_type": "markdown",
   "id": "e04df4ed",
   "metadata": {},
   "source": [
    "## 以FB的股票数据为例，站在2022-01-01，预测接下来h天的股价"
   ]
  },
  {
   "cell_type": "code",
   "execution_count": 4,
   "id": "c30015a3",
   "metadata": {},
   "outputs": [],
   "source": [
    "N = 10 #用过去10天的平均值作为对未来的预测\n",
    "h = 4 #预测未来4天的股价\n",
    "\n",
    "his_date_end = pd.to_datetime('2022-01-01')\n",
    "his_date_begin = his_date_end - pd.Timedelta(N-1, unit='D')\n",
    "pred_price = df_stock[ (df_stock['company']=='FB') & \n",
    "                  (df_stock['date']>=his_date_begin) & \n",
    "                  (df_stock['date']<=his_date_end)]['price'].mean()\n",
    "\n",
    "target_begin = his_date_end + pd.Timedelta(1, unit='D')\n",
    "target_end = his_date_end + pd.Timedelta( h,unit='D' )\n",
    "pred_result=  pd.DataFrame({'date':pd.date_range(target_begin, target_end, freq='D'),\n",
    "                           'pred_price':[pred_price]*h})"
   ]
  },
  {
   "cell_type": "markdown",
   "id": "42a5d8a9",
   "metadata": {},
   "source": [
    "# 用ETS算法做股价预测"
   ]
  },
  {
   "cell_type": "code",
   "execution_count": 5,
   "id": "04712411",
   "metadata": {},
   "outputs": [],
   "source": [
    "from statsmodels.tsa.exponential_smoothing.ets import ETSModel"
   ]
  },
  {
   "cell_type": "markdown",
   "id": "2b4a17c8",
   "metadata": {},
   "source": [
    "## 以FB的股票数据为例，站在2022-01-01，预测接下来h天的股价"
   ]
  },
  {
   "cell_type": "code",
   "execution_count": 6,
   "id": "b21e3351",
   "metadata": {},
   "outputs": [],
   "source": [
    "# 构建训练集\n",
    "his_date_end = pd.to_datetime('2022-01-01')\n",
    "data_train = df_stock[ (df_stock['company']=='FB') & \n",
    "                     (df_stock['date']<=his_date_end)]\n",
    "\n",
    "# 把日期变成训练集的index\n",
    "data_train = data_train[['date','price']].set_index('date')"
   ]
  },
  {
   "cell_type": "code",
   "execution_count": 7,
   "id": "ae6cac77",
   "metadata": {},
   "outputs": [
    {
     "name": "stderr",
     "output_type": "stream",
     "text": [
      "C:\\ProgramData\\Anaconda3\\lib\\site-packages\\statsmodels\\tsa\\base\\tsa_model.py:581: ValueWarning: A date index has been provided, but it has no associated frequency information and so will be ignored when e.g. forecasting.\n",
      "  warnings.warn('A date index has been provided, but it has no'\n"
     ]
    }
   ],
   "source": [
    "# 构建模型\n",
    "model = ETSModel( data_train['price'] )\n",
    "fit = model.fit( )"
   ]
  },
  {
   "cell_type": "code",
   "execution_count": 8,
   "id": "c6b55476",
   "metadata": {},
   "outputs": [
    {
     "data": {
      "text/plain": [
       "(array([18635., 18642., 18649., 18659., 18666., 18673., 18680., 18687.]),\n",
       " [Text(0, 0, ''),\n",
       "  Text(0, 0, ''),\n",
       "  Text(0, 0, ''),\n",
       "  Text(0, 0, ''),\n",
       "  Text(0, 0, ''),\n",
       "  Text(0, 0, ''),\n",
       "  Text(0, 0, ''),\n",
       "  Text(0, 0, '')])"
      ]
     },
     "execution_count": 8,
     "metadata": {},
     "output_type": "execute_result"
    },
    {
     "data": {
      "image/png": "[encoded data removed]",
      "text/plain": [
       "<Figure size 432x288 with 1 Axes>"
      ]
     },
     "metadata": {
      "needs_background": "light"
     },
     "output_type": "display_data"
    }
   ],
   "source": [
    "# 模型拟合结果可视化\n",
    "data_train['fit_price'] = fit.fittedvalues\n",
    "data_plot = data_train[ (data_train.index>='2021-01-01') & \n",
    "                      (data_train.index<='2021-03-01')]\n",
    "plt.plot( data_plot['price'], '.-',label='actual' )\n",
    "plt.plot( data_plot['fit_price'],'.-', label='fit' )\n",
    "plt.legend()\n",
    "plt.xticks(rotation=90)"
   ]
  },
  {
   "cell_type": "code",
   "execution_count": 9,
   "id": "cadc9934",
   "metadata": {},
   "outputs": [
    {
     "name": "stderr",
     "output_type": "stream",
     "text": [
      "C:\\ProgramData\\Anaconda3\\lib\\site-packages\\statsmodels\\tsa\\base\\tsa_model.py:376: ValueWarning: No supported index is available. Prediction results will be given with an integer index beginning at `start`.\n",
      "  warnings.warn('No supported index is available.'\n",
      "C:\\ProgramData\\Anaconda3\\lib\\site-packages\\statsmodels\\tsa\\base\\tsa_model.py:376: ValueWarning: No supported index is available. Prediction results will be given with an integer index beginning at `start`.\n",
      "  warnings.warn('No supported index is available.'\n",
      "C:\\ProgramData\\Anaconda3\\lib\\site-packages\\statsmodels\\tsa\\base\\tsa_model.py:376: ValueWarning: No supported index is available. Prediction results will be given with an integer index beginning at `start`.\n",
      "  warnings.warn('No supported index is available.'\n",
      "C:\\ProgramData\\Anaconda3\\lib\\site-packages\\statsmodels\\tsa\\base\\tsa_model.py:376: ValueWarning: No supported index is available. Prediction results will be given with an integer index beginning at `start`.\n",
      "  warnings.warn('No supported index is available.'\n"
     ]
    }
   ],
   "source": [
    "# 预测未来h天\n",
    "h = 10\n",
    "pred_price = fit.get_prediction(start=data_train.shape[0]+1,\n",
    "                               end = data_train.shape[0]+h)"
   ]
  },
  {
   "cell_type": "code",
   "execution_count": 10,
   "id": "6dc5dde8",
   "metadata": {},
   "outputs": [
    {
     "data": {
      "text/html": [
       "<div>\n",
       "<style scoped>\n",
       "    .dataframe tbody tr th:only-of-type {\n",
       "        vertical-align: middle;\n",
       "    }\n",
       "\n",
       "    .dataframe tbody tr th {\n",
       "        vertical-align: top;\n",
       "    }\n",
       "\n",
       "    .dataframe thead th {\n",
       "        text-align: right;\n",
       "    }\n",
       "</style>\n",
       "<table border=\"1\" class=\"dataframe\">\n",
       "  <thead>\n",
       "    <tr style=\"text-align: right;\">\n",
       "      <th></th>\n",
       "      <th>mean</th>\n",
       "    </tr>\n",
       "  </thead>\n",
       "  <tbody>\n",
       "    <tr>\n",
       "      <th>2423</th>\n",
       "      <td>336.763053</td>\n",
       "    </tr>\n",
       "    <tr>\n",
       "      <th>2424</th>\n",
       "      <td>336.763053</td>\n",
       "    </tr>\n",
       "    <tr>\n",
       "      <th>2425</th>\n",
       "      <td>336.763053</td>\n",
       "    </tr>\n",
       "    <tr>\n",
       "      <th>2426</th>\n",
       "      <td>336.763053</td>\n",
       "    </tr>\n",
       "    <tr>\n",
       "      <th>2427</th>\n",
       "      <td>336.763053</td>\n",
       "    </tr>\n",
       "    <tr>\n",
       "      <th>2428</th>\n",
       "      <td>336.763053</td>\n",
       "    </tr>\n",
       "    <tr>\n",
       "      <th>2429</th>\n",
       "      <td>336.763053</td>\n",
       "    </tr>\n",
       "    <tr>\n",
       "      <th>2430</th>\n",
       "      <td>336.763053</td>\n",
       "    </tr>\n",
       "    <tr>\n",
       "      <th>2431</th>\n",
       "      <td>336.763053</td>\n",
       "    </tr>\n",
       "    <tr>\n",
       "      <th>2432</th>\n",
       "      <td>336.763053</td>\n",
       "    </tr>\n",
       "  </tbody>\n",
       "</table>\n",
       "</div>"
      ],
      "text/plain": [
       "            mean\n",
       "2423  336.763053\n",
       "2424  336.763053\n",
       "2425  336.763053\n",
       "2426  336.763053\n",
       "2427  336.763053\n",
       "2428  336.763053\n",
       "2429  336.763053\n",
       "2430  336.763053\n",
       "2431  336.763053\n",
       "2432  336.763053"
      ]
     },
     "execution_count": 10,
     "metadata": {},
     "output_type": "execute_result"
    }
   ],
   "source": [
    "pred_price.summary_frame()[['mean']]"
   ]
  },
  {
   "cell_type": "markdown",
   "id": "0ce6d8cb",
   "metadata": {},
   "source": [
    "# 时间序列平稳性"
   ]
  },
  {
   "cell_type": "markdown",
   "id": "c3637687",
   "metadata": {},
   "source": [
    "ACF检验 (Auto-Correlation Function, 自相关系数检验） \n",
    "$$ r_h = Cor( X_t, X_{t+h} ) , \\forall t$$\n",
    "如果每隔h个单位，ACF值有一个局部高峰，则数据存在以h为单位的周期性"
   ]
  },
  {
   "cell_type": "markdown",
   "id": "d42c1be8",
   "metadata": {},
   "source": [
    "## 检验FB股票数据的平稳性"
   ]
  },
  {
   "cell_type": "code",
   "execution_count": 11,
   "id": "ab0945dd",
   "metadata": {},
   "outputs": [],
   "source": [
    "from  statsmodels.graphics.tsaplots import plot_acf, plot_pacf\n",
    "\n",
    "df = df_stock[ (df_stock['company']=='FB')].sort_values('date')"
   ]
  },
  {
   "cell_type": "code",
   "execution_count": 12,
   "id": "9d62d99d",
   "metadata": {},
   "outputs": [
    {
     "data": {
      "text/plain": [
       "[<matplotlib.lines.Line2D at 0x1ae69d8de80>]"
      ]
     },
     "execution_count": 12,
     "metadata": {},
     "output_type": "execute_result"
    },
    {
     "data": {
      "image/png": "[encoded data removed]",
      "text/plain": [
       "<Figure size 432x288 with 1 Axes>"
      ]
     },
     "metadata": {
      "needs_background": "light"
     },
     "output_type": "display_data"
    }
   ],
   "source": [
    "plt.plot( df['date'], df['price'] )"
   ]
  },
  {
   "cell_type": "code",
   "execution_count": 13,
   "id": "e18bb082",
   "metadata": {},
   "outputs": [
    {
     "data": {
      "image/png": "[encoded data removed]",
      "text/plain": [
       "<Figure size 432x288 with 1 Axes>"
      ]
     },
     "metadata": {
      "needs_background": "light"
     },
     "output_type": "display_data"
    }
   ],
   "source": [
    "plot_acf(df['price']).show()"
   ]
  },
  {
   "cell_type": "markdown",
   "id": "5e52fdfc",
   "metadata": {},
   "source": [
    "自相关性系数大，说明时间序列不平稳"
   ]
  },
  {
   "cell_type": "markdown",
   "id": "2a21bed8",
   "metadata": {},
   "source": [
    "## 通过差分的方式，获取平稳的时间序列"
   ]
  },
  {
   "cell_type": "markdown",
   "id": "53c82670",
   "metadata": {},
   "source": [
    "差分的定义： $$ y^1_t = y_t - y_{t-1} $$"
   ]
  },
  {
   "cell_type": "code",
   "execution_count": 14,
   "id": "1c8d1660",
   "metadata": {},
   "outputs": [],
   "source": [
    "df['price_last'] = df['price'].shift(1)\n",
    "df['price_diff'] = df['price'] -df['price_last']"
   ]
  },
  {
   "cell_type": "code",
   "execution_count": 15,
   "id": "a25bd5d0",
   "metadata": {},
   "outputs": [
    {
     "data": {
      "text/plain": [
       "[<matplotlib.lines.Line2D at 0x1ae69e835b0>]"
      ]
     },
     "execution_count": 15,
     "metadata": {},
     "output_type": "execute_result"
    },
    {
     "data": {
      "image/png": "[encoded data removed]",
      "text/plain": [
       "<Figure size 432x288 with 1 Axes>"
      ]
     },
     "metadata": {
      "needs_background": "light"
     },
     "output_type": "display_data"
    }
   ],
   "source": [
    "plt.plot( df['date'], df['price_diff'] )"
   ]
  },
  {
   "cell_type": "code",
   "execution_count": 16,
   "id": "d12b185c",
   "metadata": {},
   "outputs": [
    {
     "data": {
      "image/png": "[encoded data removed]",
      "text/plain": [
       "<Figure size 432x288 with 1 Axes>"
      ]
     },
     "metadata": {
      "needs_background": "light"
     },
     "output_type": "display_data"
    }
   ],
   "source": [
    "plot_acf(df['price_diff']).show()"
   ]
  },
  {
   "cell_type": "markdown",
   "id": "cd5a7981",
   "metadata": {
    "heading_collapsed": true
   },
   "source": [
    "# 使用Arima做预测"
   ]
  },
  {
   "cell_type": "markdown",
   "id": "2bb416e5",
   "metadata": {
    "hidden": true
   },
   "source": [
    " ## 以FB的股票数据为例，站在2022-01-01，预测接下来h天的股价"
   ]
  },
  {
   "cell_type": "code",
   "execution_count": 17,
   "id": "bd985ce0",
   "metadata": {
    "hidden": true
   },
   "outputs": [],
   "source": [
    "# 构建训练集\n",
    "his_date_end = pd.to_datetime('2022-01-01')\n",
    "data_train = df_stock[ (df_stock['company']=='FB') & \n",
    "                     (df_stock['date']<=his_date_end)].sort_values('date')"
   ]
  },
  {
   "cell_type": "code",
   "execution_count": 18,
   "id": "33609f27",
   "metadata": {
    "hidden": true
   },
   "outputs": [],
   "source": [
    "# 通过ACF判断确定I阶数d， 要求是d阶差分是平稳的\n",
    "d = 1"
   ]
  },
  {
   "cell_type": "code",
   "execution_count": 19,
   "id": "21655803",
   "metadata": {
    "hidden": true
   },
   "outputs": [
    {
     "data": {
      "image/png": "[encoded data removed]",
      "text/plain": [
       "<Figure size 432x288 with 1 Axes>"
      ]
     },
     "metadata": {
      "needs_background": "light"
     },
     "output_type": "display_data"
    }
   ],
   "source": [
    "# AR的阶数p可以通过pacf （偏相关性系数） 图来设定，因为AR各项的系数就代表每两个时间间隔的相关性\n",
    "# 要求p以后的偏相关性系数比较小\n",
    "from  statsmodels.graphics.tsaplots import plot_pacf\n",
    "plot_pacf( data_train['price'] ).show()"
   ]
  },
  {
   "cell_type": "code",
   "execution_count": 20,
   "id": "703e069c",
   "metadata": {
    "hidden": true
   },
   "outputs": [],
   "source": [
    "p = 1"
   ]
  },
  {
   "cell_type": "code",
   "execution_count": 21,
   "id": "1332d36b",
   "metadata": {
    "hidden": true
   },
   "outputs": [],
   "source": [
    "# 通过差分的ACF判断确定MA阶数q， 要求是q以后的自相关性系数比较小\n",
    "q = 0 "
   ]
  },
  {
   "cell_type": "code",
   "execution_count": 22,
   "id": "81cac70b",
   "metadata": {
    "hidden": true
   },
   "outputs": [
    {
     "data": {
      "image/png": "[encoded data removed]",
      "text/plain": [
       "<Figure size 432x288 with 1 Axes>"
      ]
     },
     "metadata": {
      "needs_background": "light"
     },
     "output_type": "display_data"
    }
   ],
   "source": [
    "# 构建Arima模型\n",
    "from statsmodels.tsa.arima_model import ARIMA\n",
    "\n",
    "model = ARIMA(data_train['price'].values, order=(p,d,q))\n",
    "fit = model.fit()\n",
    "\n",
    "# 模型拟合结果可视化\n",
    "fit.plot_predict(start=1000, end = 1100, dynamic=False).show()"
   ]
  },
  {
   "cell_type": "code",
   "execution_count": 23,
   "id": "a7b0c3f1",
   "metadata": {
    "hidden": true
   },
   "outputs": [
    {
     "data": {
      "image/png": "[encoded data removed]",
      "text/plain": [
       "<Figure size 432x288 with 1 Axes>"
      ]
     },
     "metadata": {
      "needs_background": "light"
     },
     "output_type": "display_data"
    }
   ],
   "source": [
    "## 换一组参数可以让模型的结果更复杂\n",
    "\n",
    "model = ARIMA(data_train['price'].values, order=(2,2,0))\n",
    "fit = model.fit()\n",
    "\n",
    "# 模型拟合结果可视化\n",
    "fit.plot_predict(start=1000, end = 1100, dynamic=False).show()"
   ]
  },
  {
   "cell_type": "code",
   "execution_count": 24,
   "id": "a81ef9f3",
   "metadata": {
    "hidden": true
   },
   "outputs": [
    {
     "data": {
      "text/plain": [
       "array([333.47033105, 329.8134213 , 325.18798593, 321.45814749,\n",
       "       317.39325686, 313.29622802, 309.31879503, 305.26740753,\n",
       "       301.23117802, 297.20534408])"
      ]
     },
     "execution_count": 24,
     "metadata": {},
     "output_type": "execute_result"
    }
   ],
   "source": [
    "# 模型预测\n",
    "h = 10\n",
    "fit.forecast(h)[0]"
   ]
  },
  {
   "cell_type": "markdown",
   "id": "7701acd9",
   "metadata": {
    "hidden": true
   },
   "source": [
    "另外， 大家还可以通过auto arima自动调整p, d, q\n",
    "https://pypi.org/project/pmdarima/\n"
   ]
  }
 ],
 "metadata": {
  "kernelspec": {
   "display_name": "Python 3",
   "language": "python",
   "name": "python3"
  },
  "language_info": {
   "codemirror_mode": {
    "name": "ipython",
    "version": 3
   },
   "file_extension": ".py",
   "mimetype": "text/x-python",
   "name": "python",
   "nbconvert_exporter": "python",
   "pygments_lexer": "ipython3",
   "version": "3.8.8"
  }
 },
 "nbformat": 4,
 "nbformat_minor": 5
}
